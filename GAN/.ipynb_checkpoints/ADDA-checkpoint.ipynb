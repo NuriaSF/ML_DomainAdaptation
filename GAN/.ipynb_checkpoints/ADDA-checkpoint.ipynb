{
 "cells": [
  {
   "cell_type": "markdown",
   "metadata": {},
   "source": [
    "## Purpose\n",
    "\n",
    "This notebook implements ADDA ( https://arxiv.org/pdf/1702.05464.pdf ), with MNIST and USPS data.\n",
    "\n",
    "\n",
    "\n"
   ]
  },
  {
   "cell_type": "code",
   "execution_count": null,
   "metadata": {},
   "outputs": [],
   "source": [
    "import tensorflow as tf\n",
    "import math\n",
    "from keras.datasets import mnist\n",
    "from keras.utils import to_categorical\n",
    "from keras import layers\n",
    "from keras import models\n",
    "from keras.models import Model\n",
    "from keras import backend as K\n",
    "from keras.regularizers import Regularizer\n",
    "import warnings\n",
    "warnings.filterwarnings('ignore')\n",
    "import cv2\n",
    "import numpy as np\n",
    "import h5py"
   ]
  },
  {
   "cell_type": "markdown",
   "metadata": {},
   "source": [
    "## Data\n",
    "\n",
    "Let us begin by loading and preprocessing the source data: MNIST"
   ]
  },
  {
   "cell_type": "code",
   "execution_count": null,
   "metadata": {},
   "outputs": [],
   "source": [
    "(source_train_images, source_train_labels), (source_test_images, source_test_labels) = mnist.load_data()"
   ]
  },
  {
   "cell_type": "code",
   "execution_count": null,
   "metadata": {},
   "outputs": [],
   "source": [
    "#source_train_images = source_train_images.reshape((60000, 28, 28, 1))\n",
    "source_train_images = source_train_images.reshape((60000, 28*28))\n",
    "source_train_images = source_train_images.astype('float32') / 255\n",
    "\n",
    "#source_test_images = source_test_images.reshape((10000, 28, 28, 1))\n",
    "source_test_images = source_test_images.reshape((10000, 28*28))\n",
    "source_test_images = source_test_images.astype('float32') / 255\n",
    "\n",
    "source_train_labels = to_categorical(source_train_labels)\n",
    "source_test_labels = to_categorical(source_test_labels)"
   ]
  },
  {
   "cell_type": "markdown",
   "metadata": {},
   "source": [
    "Let us now load and preprocess the target data: USPS"
   ]
  },
  {
   "cell_type": "code",
   "execution_count": null,
   "metadata": {},
   "outputs": [],
   "source": [
    "with h5py.File('usps_dataset.h5', 'r') as hf:\n",
    "        train = hf.get('train')\n",
    "        target_train_images_aux = train.get('data')[:]\n",
    "        target_train_labels = train.get('target')[:]\n",
    "        test = hf.get('test')\n",
    "        target_test_images_aux = test.get('data')[:]\n",
    "        target_test_labels = test.get('target')[:]"
   ]
  },
  {
   "cell_type": "code",
   "execution_count": null,
   "metadata": {},
   "outputs": [],
   "source": [
    "target_train_images = []\n",
    "target_test_images = []\n",
    "\n",
    "for i in range(7291):\n",
    "    img = target_train_images_aux[i].reshape(16,16)\n",
    "    img = cv2.resize(img, dsize=(28, 28), interpolation=cv2.INTER_CUBIC)\n",
    "    target_train_images.append(img.flatten())\n",
    "    \n",
    "for i in range(2007):\n",
    "    img = target_test_images_aux[i].reshape(16,16)\n",
    "    img = cv2.resize(img, dsize=(28, 28), interpolation=cv2.INTER_CUBIC)\n",
    "    target_test_images.append(img.flatten())"
   ]
  },
  {
   "cell_type": "code",
   "execution_count": null,
   "metadata": {},
   "outputs": [],
   "source": [
    "#convert list to numpy arrays\n",
    "target_train_images = np.asarray(target_train_images)\n",
    "target_test_images = np.asarray(target_test_images)\n",
    "\n",
    "#train images\n",
    "#target_train_images = target_train_images.reshape((7291, 28, 28, 1))\n",
    "target_train_images = target_train_images.astype('float32')\n",
    "for i in range(7291):\n",
    "    min_aux = min(target_train_images[i])\n",
    "    max_aux = max(target_train_images[i]-min_aux)\n",
    "    target_train_images[i] = (target_train_images[i]-min_aux)/max_aux\n",
    "\n",
    "#test images\n",
    "#target_test_images = target_test_images.reshape((2007, 28, 28, 1))\n",
    "target_test_images = target_test_images.astype('float32')\n",
    "for i in range(2007):\n",
    "    min_aux = min(target_test_images[i])\n",
    "    max_aux = max(target_test_images[i]-min_aux)\n",
    "    target_test_images[i] = (target_test_images[i]-min_aux)/max_aux\n",
    "\n",
    "#labels\n",
    "target_train_labels = to_categorical(target_train_labels)\n",
    "target_test_labels = to_categorical(target_test_labels)"
   ]
  },
  {
   "cell_type": "code",
   "execution_count": null,
   "metadata": {},
   "outputs": [],
   "source": []
  },
  {
   "cell_type": "code",
   "execution_count": null,
   "metadata": {},
   "outputs": [],
   "source": []
  },
  {
   "cell_type": "code",
   "execution_count": null,
   "metadata": {},
   "outputs": [],
   "source": []
  }
 ],
 "metadata": {
  "kernelspec": {
   "display_name": "Python [conda env:ML] *",
   "language": "python",
   "name": "conda-env-ML-py"
  },
  "language_info": {
   "codemirror_mode": {
    "name": "ipython",
    "version": 3
   },
   "file_extension": ".py",
   "mimetype": "text/x-python",
   "name": "python",
   "nbconvert_exporter": "python",
   "pygments_lexer": "ipython3",
   "version": "3.7.5"
  }
 },
 "nbformat": 4,
 "nbformat_minor": 2
}
